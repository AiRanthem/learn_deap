{
 "cells": [
  {
   "cell_type": "markdown",
   "source": [
    "# 简单遗传算法实现\n",
    "在这一篇中我们试图将各个操作组装起来，用进化算法解决一个简单的一元函数寻优问题。\n",
    "\n",
    "## 问题描述与分析\n",
    "给定一个函数 $h(x) = (x^2 + x)cos(2x)+x^2+x$，求解该函数的最大值。\n",
    "\n",
    "该函数图像如下：\n",
    "\n",
    "<img src=\"https://upload-images.jianshu.io/upload_images/17867674-263de2405aafbd33.jpg?imageMogr2/auto-orient/strip|imageView2/2/w/1200/format/webp\" width=\"35%\"/>\n",
    "\n",
    "该函数的最大值应该出现在28.309042309042308处，值为1657.4235763265594。\n",
    "\n",
    "可以看到该函数有很多局部极值作为干扰项，如果进化算法过早收敛，很容易陷入某个局部最优。"
   ],
   "metadata": {}
  },
  {
   "cell_type": "markdown",
   "source": [
    "## 问题的编码与解码\n",
    "对于该问题，可以选取很多不同的编码方式。本文计划采用二进制编码，精度要求到6位，那么首先应当确定编码的长度与解码方式。$x$给定定义域为$(-30,30)$，并且有：\n",
    "$$2^{25}<60*10^6<2^{26}$$\n",
    "所以我们需要的二进制编码长度为26。"
   ],
   "metadata": {}
  },
  {
   "cell_type": "markdown",
   "source": [
    "## 利用DEAP自带算法求解\n",
    "### DEAP自带的进化算法介绍\n",
    "DEAP自带的算法都比较基础，通常可以用来测试问题描述、编码方式和交叉突变操作组合的有效性。需要比较复杂的进化算法时，可以通过在已经有的算子上进行扩充。\n",
    "\n",
    "|算法|\t描述\n",
    "|---|---\n",
    "|eaSimple|\t简单进化算法\n",
    "|eaMuPlusLambda|\t$(\\mu+\\lambda)$进化算法\n",
    "|eaMuCommaLambda|\t$(\\mu,\\lambda)$进化算法\n",
    "\n",
    "#### 简单进化算法 ：`deap.algorithms.eaSimple`\n",
    "\n",
    "DEAP中预置的简单进化算法流程描述如下：\n",
    "\n",
    "1. 根据工具箱中注册的`toolbox.evaluate`评价族群\n",
    "1. 根据工具箱中注册的`toolbox.select`选择与父代相同个数的育种个体\n",
    "1. 在族群中进行第一次循环，用工具箱中注册的`toolbox.mate`进行配种，并<u>用生成的两个子代替换对应父代</u>\n",
    "1. 在族群中进行第二次循环，用工具箱中注册的`toolbox.mutate`进行变异，用<u>变异后的子代替换对应父代</u>\n",
    "1. 从1开始重复循环，直到达到设定的迭代次数\n",
    "\n",
    "需要注意的是在这个过程中，生成子代有四种情况：受到配种影响；受到变异影响；既受到配种也受到变异影响；既不受配种影响也不受变异影响。\n",
    "\n",
    "对应的伪代码可以表述为：\n",
    "\n",
    "```python\n",
    "evaluate(population)\n",
    "for g in range(ngen):\n",
    "    population = select(population, len(population))\n",
    "    offspring = varAnd(population, toolbox, cxpb, mutpb)\n",
    "    evaluate(offspring)\n",
    "    population = offspring\n",
    "```\n",
    "\n",
    "#### $(\\mu+\\lambda)$进化算法：`deap.algorithms.eaMuPlusLambda`\n",
    "该算法的流程如下：\n",
    "\n",
    "1. 根据工具箱中注册的`toolbox.evaluate`评价族群\n",
    "1. 在族群中进行循环，在每次循环中，随机选择`crossover`，`mutation`和`reproduction`三者之一：如果选择到`crossover`，那么随机选择2个个体，用工具箱中注册的`toolbox.mate`进行配种，<u>将生成的第一个子代加入到后代列表中，第二个子代丢弃</u>；如果选择到`mutation`，用工具箱中注册的`toolbox.mutate`进行变异，<u>将变异后的子代加入到后代列表中</u>；如果选择到`reproduction`，随机选择一个个体，<u>将其复制加入到后代列表中</u>\n",
    "1. 根据工具箱中注册的`toolbox.select`，在<u>父代+子代</u>中选择给定数量的个体作为子代\n",
    "1. 从1开始重复循环，直到达到设定的迭代次数\n",
    "\n",
    "注意在这个子代生成的过程中，子代不会同时受到变异和配种影响。\n",
    "\n",
    "对应的伪代码可以表述为：\n",
    "\n",
    "```python\n",
    "evaluate(population)\n",
    "for g in range(ngen):\n",
    "    offspring = varOr(population, toolbox, lambda_, cxpb, mutpb)\n",
    "    evaluate(offspring)\n",
    "    population = select(population + offspring, mu)\n",
    "```\n",
    "\n",
    "#### $(\\mu,\\lambda)$进化算法：`deap.algorithms.eaMuCommaLambda`\n",
    "与$(\\mu+\\lambda)$基本相同，唯一的区别在于生成子代族群时，只在产生的子代中选择，而丢弃所有父代。\n",
    "\n",
    "对应的伪代码可以表述为：\n",
    "\n",
    "```python\n",
    "evaluate(population)\n",
    "for g in range(ngen):\n",
    "    offspring = varOr(population, toolbox, lambda_, cxpb, mutpb)\n",
    "    evaluate(offspring)\n",
    "    population = select(offspring, mu)\n",
    "```\n"
   ],
   "metadata": {}
  },
  {
   "cell_type": "markdown",
   "source": [
    "### 调用DEAP自带的进化算法\n",
    "在调用DEAP自带的算法时需要注意的是，由于内置算法调用的alias已经提前给定，因此我们在register的时候，需要按照给定名称注册。\n",
    "\n",
    "例如`toolbox.register('crossover', tools.cxUniform)`就不能被内置算法识别，而应当按照要求，命名为`mate`，并且显示给出交叉概率： `toolbox.register('mate', tools.cxUniform, indpb = 0.5)`\n",
    "\n",
    "按照要求，使用预置的算法需要注册的工具有：\n",
    "\n",
    "`toolbox.evaluate`：评价函数\n",
    "\n",
    "`toolbox.select`：育种选择\n",
    "\n",
    "`toolbox.mate`：交叉操作\n",
    "\n",
    "`toolbox.mutate`：突变操作\n",
    "\n",
    "### 代码与测试\n"
   ],
   "metadata": {}
  },
  {
   "cell_type": "code",
   "execution_count": 4,
   "source": [
    "from deap import algorithms, creator, tools, base\n",
    "from scipy.stats import bernoulli\n",
    "\n",
    "import random\n",
    "import numpy as np\n",
    "\n",
    "random.seed(42) #确保可以复现结果\n",
    "# 描述问题\n",
    "creator.create('FitnessMax', base.Fitness, weights=(1.0,)) # 单目标，最大值问题\n",
    "creator.create('Individual', list, fitness = creator.FitnessMax) # 编码继承list类\n",
    "\n",
    "# 个体编码\n",
    "GENE_LENGTH = 26 # 需要26位编码\n",
    "\n",
    "toolbox = base.Toolbox()\n",
    "toolbox.register('binary', bernoulli.rvs, 0.5) #注册一个Binary的alias，指向scipy.stats中的bernoulli.rvs，概率为0.5\n",
    "toolbox.register('individual', tools.initRepeat, creator.Individual, toolbox.binary, n = GENE_LENGTH) #用tools.initRepeat生成长度为GENE_LENGTH的Individual\n",
    "\n",
    "# 评价函数\n",
    "def decode(individual: creator.Individual) -> float:\n",
    "    num = int(''.join([str(_) for _ in individual]), 2) # 解码到10进制\n",
    "    x = -30 + num * 60 / (2**26 - 1) # 映射回-30，30区间\n",
    "    return x\n",
    "\n",
    "def eval(individual: creator.Individual) -> float:\n",
    "    x = decode(individual)\n",
    "    return ((np.square(x) + x) * np.cos(2*x) + np.square(x) + x),\n",
    "\n",
    "# 生成初始族群\n",
    "N_POP = 100 # 族群中的个体数量\n",
    "toolbox.register('population', tools.initRepeat, list, toolbox.individual)\n",
    "pop = toolbox.population(n = N_POP)\n",
    "\n",
    "# 在工具箱中注册遗传算法需要的工具\n",
    "toolbox.register('evaluate', eval)\n",
    "toolbox.register('select', tools.selTournament, tournsize = 2) # 注册Tournsize为2的锦标赛选择\n",
    "toolbox.register('mate', tools.cxUniform, indpb = 0.5) # 注意这里的indpb需要显示给出\n",
    "toolbox.register('mutate', tools.mutFlipBit, indpb = 0.5)\n",
    "\n",
    "# 注册计算过程中需要记录的数据\n",
    "stats = tools.Statistics(key=lambda ind: ind.fitness.values)\n",
    "stats.register(\"avg\", np.mean)\n",
    "stats.register(\"std\", np.std)\n",
    "stats.register(\"min\", np.min)\n",
    "stats.register(\"max\", np.max)\n",
    "\n",
    "# 调用DEAP内置的算法\n",
    "resultPop, logbook = algorithms.eaSimple(pop, toolbox, cxpb=0.5, mutpb=0.2, ngen=50, stats = stats, verbose = False)\n",
    "\n",
    "# 输出计算过程\n",
    "logbook.header = 'gen', 'nevals',\"avg\", \"std\", 'min', \"max\"\n",
    "print(logbook)"
   ],
   "outputs": [
    {
     "output_type": "stream",
     "name": "stderr",
     "text": [
      "C:\\Users\\airan\\AppData\\Local\\Packages\\PythonSoftwareFoundation.Python.3.9_qbz5n2kfra8p0\\LocalCache\\local-packages\\Python39\\site-packages\\deap\\creator.py:138: RuntimeWarning: A class named 'FitnessMax' has already been created and it will be overwritten. Consider deleting previous creation of that class or rename it.\n",
      "  warnings.warn(\"A class named '{0}' has already been created and it \"\n",
      "C:\\Users\\airan\\AppData\\Local\\Packages\\PythonSoftwareFoundation.Python.3.9_qbz5n2kfra8p0\\LocalCache\\local-packages\\Python39\\site-packages\\deap\\creator.py:138: RuntimeWarning: A class named 'Individual' has already been created and it will be overwritten. Consider deleting previous creation of that class or rename it.\n",
      "  warnings.warn(\"A class named '{0}' has already been created and it \"\n",
      "gen\tnevals\tavg    \tstd    \tmin        \tmax    \n",
      "0  \t100   \t312.114\t371.579\t-0.369935  \t1420.83\n",
      "1  \t53    \t468.302\t442.969\t-0.0257303 \t1657.42\n",
      "2  \t59    \t566.477\t478.681\t0.0587771  \t1657.42\n",
      "3  \t52    \t619.196\t443.635\t0.172135   \t1657.42\n",
      "4  \t59    \t601.755\t435.366\t-0.389733  \t1657.42\n",
      "5  \t62    \t554.18 \t432.549\t-0.395097  \t1657.42\n",
      "6  \t71    \t617.15 \t495.73 \t0.0751221  \t1657.42\n",
      "7  \t62    \t600.183\t494.795\t0.0318643  \t1657.42\n",
      "8  \t67    \t568.873\t477.658\t-0.0347961 \t1657.42\n",
      "9  \t55    \t583.254\t496.111\t-0.029864  \t1657.42\n",
      "10 \t59    \t618.305\t497.243\t-0.145391  \t1657.42\n",
      "11 \t50    \t727.238\t495.743\t-0.343116  \t1657.42\n",
      "12 \t49    \t800.6  \t571.727\t0.130625   \t1657.42\n",
      "13 \t60    \t873.489\t564.536\t0.0116445  \t1657.42\n",
      "14 \t56    \t874.458\t617.386\t0.0357406  \t1657.42\n",
      "15 \t61    \t945.488\t579.196\t0.0398586  \t1657.42\n",
      "16 \t57    \t996.593\t577.973\t0.045359   \t1657.42\n",
      "17 \t72    \t1132.56\t564.651\t10.6587    \t1657.42\n",
      "18 \t66    \t1229.42\t587.46 \t0.391381   \t1657.42\n",
      "19 \t67    \t1232.12\t606.199\t-0.342957  \t1657.42\n",
      "20 \t64    \t1165.37\t626.85 \t0.00223002 \t1657.42\n",
      "21 \t58    \t1029.16\t692.411\t-0.0130374 \t1657.42\n",
      "22 \t60    \t1061.62\t650.332\t0.00400121 \t1657.42\n",
      "23 \t49    \t1209.46\t608.134\t0.0221947  \t1657.42\n",
      "24 \t47    \t1198.18\t659.135\t-0.20297   \t1657.42\n",
      "25 \t57    \t1210.04\t663.497\t0.0289273  \t1657.42\n",
      "26 \t53    \t1384.89\t550.079\t0.96233    \t1657.42\n",
      "27 \t71    \t1161.32\t704.421\t-0.257028  \t1657.42\n",
      "28 \t52    \t1258.61\t639.255\t8.92792    \t1657.42\n",
      "29 \t61    \t1312.38\t615.841\t1.40553    \t1657.42\n",
      "30 \t56    \t1251.42\t651.866\t-0.0256739 \t1657.42\n",
      "31 \t68    \t1200.15\t678.301\t0.00661268 \t1657.42\n",
      "32 \t58    \t1198.03\t676.122\t-0.0660822 \t1657.42\n",
      "33 \t61    \t1196.91\t679.592\t-0.12573   \t1657.42\n",
      "34 \t60    \t1236.5 \t635.7  \t0.00461329 \t1657.42\n",
      "35 \t50    \t1327.96\t600.461\t3.45412    \t1657.42\n",
      "36 \t40    \t1357.24\t599.423\t-0.369436  \t1657.42\n",
      "37 \t51    \t1299.77\t634.027\t-0.069939  \t1657.42\n",
      "38 \t48    \t1324.5 \t609.827\t0.918831   \t1657.42\n",
      "39 \t55    \t1322.74\t566.588\t0.950019   \t1657.42\n",
      "40 \t58    \t1282.45\t640.603\t0.1803     \t1657.42\n",
      "41 \t54    \t1335.41\t593.034\t-0.321842  \t1657.42\n",
      "42 \t53    \t1330.6 \t593.716\t0.0338951  \t1657.42\n",
      "43 \t60    \t1332.3 \t597.802\t1.4127     \t1657.42\n",
      "44 \t65    \t1238.71\t645.91 \t0.00301442 \t1657.42\n",
      "45 \t71    \t1287.97\t625.309\t-0.37907   \t1657.42\n",
      "46 \t51    \t1397.39\t520.75 \t0.00560023 \t1657.42\n",
      "47 \t66    \t1312.05\t590.825\t0.291912   \t1657.42\n",
      "48 \t66    \t1162.59\t691.582\t0.161801   \t1657.42\n",
      "49 \t50    \t1277.15\t639.959\t5.79016e-05\t1657.42\n",
      "50 \t61    \t1289.36\t617.794\t0.132106   \t1657.42\n"
     ]
    }
   ],
   "metadata": {}
  },
  {
   "cell_type": "code",
   "execution_count": 5,
   "source": [
    "\"\"\"\n",
    "查看结果\n",
    "\"\"\"\n",
    "\n",
    "# 输出最优解\n",
    "index = np.argmax([ind.fitness for ind in resultPop])\n",
    "x = decode(resultPop[index]) # 解码\n",
    "print('当前最优解：'+ str(x) + '\\t对应的函数值为：' + str(resultPop[index].fitness))"
   ],
   "outputs": [
    {
     "output_type": "stream",
     "name": "stdout",
     "text": [
      "当前最优解：28.308877919746607\t对应的函数值为：(1657.4235317492396,)\n"
     ]
    }
   ],
   "metadata": {}
  },
  {
   "cell_type": "markdown",
   "source": [
    "### 结果可视化"
   ],
   "metadata": {}
  },
  {
   "cell_type": "code",
   "execution_count": 6,
   "source": [
    "import matplotlib.pyplot as plt\n",
    "\n",
    "gen = logbook.select('gen') # 用select方法从logbook中提取迭代次数\n",
    "fit_maxs = logbook.select('max')\n",
    "fit_average = logbook.select('avg')\n",
    "\n",
    "fig = plt.figure()\n",
    "ax = fig.add_subplot(111)\n",
    "ax.plot(gen, fit_maxs, 'b-', linewidth = 2.0, label='Max Fitness')\n",
    "ax.plot(gen, fit_average, 'r-', linewidth = 2.0, label='Average Fitness')\n",
    "ax.legend(loc='best')\n",
    "ax.set_xlabel('Generation')\n",
    "ax.set_ylabel('Fitness')\n",
    "\n",
    "# fig.tight_layout()\n",
    "# fig.savefig('Generation_Fitness.png')"
   ],
   "outputs": [
    {
     "output_type": "execute_result",
     "data": {
      "text/plain": [
       "Text(0, 0.5, 'Fitness')"
      ]
     },
     "metadata": {},
     "execution_count": 6
    },
    {
     "output_type": "display_data",
     "data": {
      "text/plain": "<Figure size 432x288 with 1 Axes>",
      "image/svg+xml": "<?xml version=\"1.0\" encoding=\"utf-8\" standalone=\"no\"?>\r\n<!DOCTYPE svg PUBLIC \"-//W3C//DTD SVG 1.1//EN\"\r\n  \"http://www.w3.org/Graphics/SVG/1.1/DTD/svg11.dtd\">\r\n<svg height=\"262.19625pt\" version=\"1.1\" viewBox=\"0 0 395.328125 262.19625\" width=\"395.328125pt\" xmlns=\"http://www.w3.org/2000/svg\" xmlns:xlink=\"http://www.w3.org/1999/xlink\">\r\n <metadata>\r\n  <rdf:RDF xmlns:cc=\"http://creativecommons.org/ns#\" xmlns:dc=\"http://purl.org/dc/elements/1.1/\" xmlns:rdf=\"http://www.w3.org/1999/02/22-rdf-syntax-ns#\">\r\n   <cc:Work>\r\n    <dc:type rdf:resource=\"http://purl.org/dc/dcmitype/StillImage\"/>\r\n    <dc:date>2021-07-20T09:43:42.493271</dc:date>\r\n    <dc:format>image/svg+xml</dc:format>\r\n    <dc:creator>\r\n     <cc:Agent>\r\n      <dc:title>Matplotlib v3.4.2, https://matplotlib.org/</dc:title>\r\n     </cc:Agent>\r\n    </dc:creator>\r\n   </cc:Work>\r\n  </rdf:RDF>\r\n </metadata>\r\n <defs>\r\n  <style type=\"text/css\">*{stroke-linecap:butt;stroke-linejoin:round;}</style>\r\n </defs>\r\n <g id=\"figure_1\">\r\n  <g id=\"patch_1\">\r\n   <path d=\"M 0 262.19625 \r\nL 395.328125 262.19625 \r\nL 395.328125 0 \r\nL 0 0 \r\nz\r\n\" style=\"fill:none;\"/>\r\n  </g>\r\n  <g id=\"axes_1\">\r\n   <g id=\"patch_2\">\r\n    <path d=\"M 53.328125 224.64 \r\nL 388.128125 224.64 \r\nL 388.128125 7.2 \r\nL 53.328125 7.2 \r\nz\r\n\" style=\"fill:#ffffff;\"/>\r\n   </g>\r\n   <g id=\"matplotlib.axis_1\">\r\n    <g id=\"xtick_1\">\r\n     <g id=\"line2d_1\">\r\n      <defs>\r\n       <path d=\"M 0 0 \r\nL 0 3.5 \r\n\" id=\"mca5e33cf2e\" style=\"stroke:#000000;stroke-width:0.8;\"/>\r\n      </defs>\r\n      <g>\r\n       <use style=\"stroke:#000000;stroke-width:0.8;\" x=\"68.546307\" xlink:href=\"#mca5e33cf2e\" y=\"224.64\"/>\r\n      </g>\r\n     </g>\r\n     <g id=\"text_1\">\r\n      <!-- 0 -->\r\n      <g transform=\"translate(65.365057 239.238437)scale(0.1 -0.1)\">\r\n       <defs>\r\n        <path d=\"M 2034 4250 \r\nQ 1547 4250 1301 3770 \r\nQ 1056 3291 1056 2328 \r\nQ 1056 1369 1301 889 \r\nQ 1547 409 2034 409 \r\nQ 2525 409 2770 889 \r\nQ 3016 1369 3016 2328 \r\nQ 3016 3291 2770 3770 \r\nQ 2525 4250 2034 4250 \r\nz\r\nM 2034 4750 \r\nQ 2819 4750 3233 4129 \r\nQ 3647 3509 3647 2328 \r\nQ 3647 1150 3233 529 \r\nQ 2819 -91 2034 -91 \r\nQ 1250 -91 836 529 \r\nQ 422 1150 422 2328 \r\nQ 422 3509 836 4129 \r\nQ 1250 4750 2034 4750 \r\nz\r\n\" id=\"DejaVuSans-30\" transform=\"scale(0.015625)\"/>\r\n       </defs>\r\n       <use xlink:href=\"#DejaVuSans-30\"/>\r\n      </g>\r\n     </g>\r\n    </g>\r\n    <g id=\"xtick_2\">\r\n     <g id=\"line2d_2\">\r\n      <g>\r\n       <use style=\"stroke:#000000;stroke-width:0.8;\" x=\"129.419034\" xlink:href=\"#mca5e33cf2e\" y=\"224.64\"/>\r\n      </g>\r\n     </g>\r\n     <g id=\"text_2\">\r\n      <!-- 10 -->\r\n      <g transform=\"translate(123.056534 239.238437)scale(0.1 -0.1)\">\r\n       <defs>\r\n        <path d=\"M 794 531 \r\nL 1825 531 \r\nL 1825 4091 \r\nL 703 3866 \r\nL 703 4441 \r\nL 1819 4666 \r\nL 2450 4666 \r\nL 2450 531 \r\nL 3481 531 \r\nL 3481 0 \r\nL 794 0 \r\nL 794 531 \r\nz\r\n\" id=\"DejaVuSans-31\" transform=\"scale(0.015625)\"/>\r\n       </defs>\r\n       <use xlink:href=\"#DejaVuSans-31\"/>\r\n       <use x=\"63.623047\" xlink:href=\"#DejaVuSans-30\"/>\r\n      </g>\r\n     </g>\r\n    </g>\r\n    <g id=\"xtick_3\">\r\n     <g id=\"line2d_3\">\r\n      <g>\r\n       <use style=\"stroke:#000000;stroke-width:0.8;\" x=\"190.291761\" xlink:href=\"#mca5e33cf2e\" y=\"224.64\"/>\r\n      </g>\r\n     </g>\r\n     <g id=\"text_3\">\r\n      <!-- 20 -->\r\n      <g transform=\"translate(183.929261 239.238437)scale(0.1 -0.1)\">\r\n       <defs>\r\n        <path d=\"M 1228 531 \r\nL 3431 531 \r\nL 3431 0 \r\nL 469 0 \r\nL 469 531 \r\nQ 828 903 1448 1529 \r\nQ 2069 2156 2228 2338 \r\nQ 2531 2678 2651 2914 \r\nQ 2772 3150 2772 3378 \r\nQ 2772 3750 2511 3984 \r\nQ 2250 4219 1831 4219 \r\nQ 1534 4219 1204 4116 \r\nQ 875 4013 500 3803 \r\nL 500 4441 \r\nQ 881 4594 1212 4672 \r\nQ 1544 4750 1819 4750 \r\nQ 2544 4750 2975 4387 \r\nQ 3406 4025 3406 3419 \r\nQ 3406 3131 3298 2873 \r\nQ 3191 2616 2906 2266 \r\nQ 2828 2175 2409 1742 \r\nQ 1991 1309 1228 531 \r\nz\r\n\" id=\"DejaVuSans-32\" transform=\"scale(0.015625)\"/>\r\n       </defs>\r\n       <use xlink:href=\"#DejaVuSans-32\"/>\r\n       <use x=\"63.623047\" xlink:href=\"#DejaVuSans-30\"/>\r\n      </g>\r\n     </g>\r\n    </g>\r\n    <g id=\"xtick_4\">\r\n     <g id=\"line2d_4\">\r\n      <g>\r\n       <use style=\"stroke:#000000;stroke-width:0.8;\" x=\"251.164489\" xlink:href=\"#mca5e33cf2e\" y=\"224.64\"/>\r\n      </g>\r\n     </g>\r\n     <g id=\"text_4\">\r\n      <!-- 30 -->\r\n      <g transform=\"translate(244.801989 239.238437)scale(0.1 -0.1)\">\r\n       <defs>\r\n        <path d=\"M 2597 2516 \r\nQ 3050 2419 3304 2112 \r\nQ 3559 1806 3559 1356 \r\nQ 3559 666 3084 287 \r\nQ 2609 -91 1734 -91 \r\nQ 1441 -91 1130 -33 \r\nQ 819 25 488 141 \r\nL 488 750 \r\nQ 750 597 1062 519 \r\nQ 1375 441 1716 441 \r\nQ 2309 441 2620 675 \r\nQ 2931 909 2931 1356 \r\nQ 2931 1769 2642 2001 \r\nQ 2353 2234 1838 2234 \r\nL 1294 2234 \r\nL 1294 2753 \r\nL 1863 2753 \r\nQ 2328 2753 2575 2939 \r\nQ 2822 3125 2822 3475 \r\nQ 2822 3834 2567 4026 \r\nQ 2313 4219 1838 4219 \r\nQ 1578 4219 1281 4162 \r\nQ 984 4106 628 3988 \r\nL 628 4550 \r\nQ 988 4650 1302 4700 \r\nQ 1616 4750 1894 4750 \r\nQ 2613 4750 3031 4423 \r\nQ 3450 4097 3450 3541 \r\nQ 3450 3153 3228 2886 \r\nQ 3006 2619 2597 2516 \r\nz\r\n\" id=\"DejaVuSans-33\" transform=\"scale(0.015625)\"/>\r\n       </defs>\r\n       <use xlink:href=\"#DejaVuSans-33\"/>\r\n       <use x=\"63.623047\" xlink:href=\"#DejaVuSans-30\"/>\r\n      </g>\r\n     </g>\r\n    </g>\r\n    <g id=\"xtick_5\">\r\n     <g id=\"line2d_5\">\r\n      <g>\r\n       <use style=\"stroke:#000000;stroke-width:0.8;\" x=\"312.037216\" xlink:href=\"#mca5e33cf2e\" y=\"224.64\"/>\r\n      </g>\r\n     </g>\r\n     <g id=\"text_5\">\r\n      <!-- 40 -->\r\n      <g transform=\"translate(305.674716 239.238437)scale(0.1 -0.1)\">\r\n       <defs>\r\n        <path d=\"M 2419 4116 \r\nL 825 1625 \r\nL 2419 1625 \r\nL 2419 4116 \r\nz\r\nM 2253 4666 \r\nL 3047 4666 \r\nL 3047 1625 \r\nL 3713 1625 \r\nL 3713 1100 \r\nL 3047 1100 \r\nL 3047 0 \r\nL 2419 0 \r\nL 2419 1100 \r\nL 313 1100 \r\nL 313 1709 \r\nL 2253 4666 \r\nz\r\n\" id=\"DejaVuSans-34\" transform=\"scale(0.015625)\"/>\r\n       </defs>\r\n       <use xlink:href=\"#DejaVuSans-34\"/>\r\n       <use x=\"63.623047\" xlink:href=\"#DejaVuSans-30\"/>\r\n      </g>\r\n     </g>\r\n    </g>\r\n    <g id=\"xtick_6\">\r\n     <g id=\"line2d_6\">\r\n      <g>\r\n       <use style=\"stroke:#000000;stroke-width:0.8;\" x=\"372.909943\" xlink:href=\"#mca5e33cf2e\" y=\"224.64\"/>\r\n      </g>\r\n     </g>\r\n     <g id=\"text_6\">\r\n      <!-- 50 -->\r\n      <g transform=\"translate(366.547443 239.238437)scale(0.1 -0.1)\">\r\n       <defs>\r\n        <path d=\"M 691 4666 \r\nL 3169 4666 \r\nL 3169 4134 \r\nL 1269 4134 \r\nL 1269 2991 \r\nQ 1406 3038 1543 3061 \r\nQ 1681 3084 1819 3084 \r\nQ 2600 3084 3056 2656 \r\nQ 3513 2228 3513 1497 \r\nQ 3513 744 3044 326 \r\nQ 2575 -91 1722 -91 \r\nQ 1428 -91 1123 -41 \r\nQ 819 9 494 109 \r\nL 494 744 \r\nQ 775 591 1075 516 \r\nQ 1375 441 1709 441 \r\nQ 2250 441 2565 725 \r\nQ 2881 1009 2881 1497 \r\nQ 2881 1984 2565 2268 \r\nQ 2250 2553 1709 2553 \r\nQ 1456 2553 1204 2497 \r\nQ 953 2441 691 2322 \r\nL 691 4666 \r\nz\r\n\" id=\"DejaVuSans-35\" transform=\"scale(0.015625)\"/>\r\n       </defs>\r\n       <use xlink:href=\"#DejaVuSans-35\"/>\r\n       <use x=\"63.623047\" xlink:href=\"#DejaVuSans-30\"/>\r\n      </g>\r\n     </g>\r\n    </g>\r\n    <g id=\"text_7\">\r\n     <!-- Generation -->\r\n     <g transform=\"translate(192.835156 252.916562)scale(0.1 -0.1)\">\r\n      <defs>\r\n       <path d=\"M 3809 666 \r\nL 3809 1919 \r\nL 2778 1919 \r\nL 2778 2438 \r\nL 4434 2438 \r\nL 4434 434 \r\nQ 4069 175 3628 42 \r\nQ 3188 -91 2688 -91 \r\nQ 1594 -91 976 548 \r\nQ 359 1188 359 2328 \r\nQ 359 3472 976 4111 \r\nQ 1594 4750 2688 4750 \r\nQ 3144 4750 3555 4637 \r\nQ 3966 4525 4313 4306 \r\nL 4313 3634 \r\nQ 3963 3931 3569 4081 \r\nQ 3175 4231 2741 4231 \r\nQ 1884 4231 1454 3753 \r\nQ 1025 3275 1025 2328 \r\nQ 1025 1384 1454 906 \r\nQ 1884 428 2741 428 \r\nQ 3075 428 3337 486 \r\nQ 3600 544 3809 666 \r\nz\r\n\" id=\"DejaVuSans-47\" transform=\"scale(0.015625)\"/>\r\n       <path d=\"M 3597 1894 \r\nL 3597 1613 \r\nL 953 1613 \r\nQ 991 1019 1311 708 \r\nQ 1631 397 2203 397 \r\nQ 2534 397 2845 478 \r\nQ 3156 559 3463 722 \r\nL 3463 178 \r\nQ 3153 47 2828 -22 \r\nQ 2503 -91 2169 -91 \r\nQ 1331 -91 842 396 \r\nQ 353 884 353 1716 \r\nQ 353 2575 817 3079 \r\nQ 1281 3584 2069 3584 \r\nQ 2775 3584 3186 3129 \r\nQ 3597 2675 3597 1894 \r\nz\r\nM 3022 2063 \r\nQ 3016 2534 2758 2815 \r\nQ 2500 3097 2075 3097 \r\nQ 1594 3097 1305 2825 \r\nQ 1016 2553 972 2059 \r\nL 3022 2063 \r\nz\r\n\" id=\"DejaVuSans-65\" transform=\"scale(0.015625)\"/>\r\n       <path d=\"M 3513 2113 \r\nL 3513 0 \r\nL 2938 0 \r\nL 2938 2094 \r\nQ 2938 2591 2744 2837 \r\nQ 2550 3084 2163 3084 \r\nQ 1697 3084 1428 2787 \r\nQ 1159 2491 1159 1978 \r\nL 1159 0 \r\nL 581 0 \r\nL 581 3500 \r\nL 1159 3500 \r\nL 1159 2956 \r\nQ 1366 3272 1645 3428 \r\nQ 1925 3584 2291 3584 \r\nQ 2894 3584 3203 3211 \r\nQ 3513 2838 3513 2113 \r\nz\r\n\" id=\"DejaVuSans-6e\" transform=\"scale(0.015625)\"/>\r\n       <path d=\"M 2631 2963 \r\nQ 2534 3019 2420 3045 \r\nQ 2306 3072 2169 3072 \r\nQ 1681 3072 1420 2755 \r\nQ 1159 2438 1159 1844 \r\nL 1159 0 \r\nL 581 0 \r\nL 581 3500 \r\nL 1159 3500 \r\nL 1159 2956 \r\nQ 1341 3275 1631 3429 \r\nQ 1922 3584 2338 3584 \r\nQ 2397 3584 2469 3576 \r\nQ 2541 3569 2628 3553 \r\nL 2631 2963 \r\nz\r\n\" id=\"DejaVuSans-72\" transform=\"scale(0.015625)\"/>\r\n       <path d=\"M 2194 1759 \r\nQ 1497 1759 1228 1600 \r\nQ 959 1441 959 1056 \r\nQ 959 750 1161 570 \r\nQ 1363 391 1709 391 \r\nQ 2188 391 2477 730 \r\nQ 2766 1069 2766 1631 \r\nL 2766 1759 \r\nL 2194 1759 \r\nz\r\nM 3341 1997 \r\nL 3341 0 \r\nL 2766 0 \r\nL 2766 531 \r\nQ 2569 213 2275 61 \r\nQ 1981 -91 1556 -91 \r\nQ 1019 -91 701 211 \r\nQ 384 513 384 1019 \r\nQ 384 1609 779 1909 \r\nQ 1175 2209 1959 2209 \r\nL 2766 2209 \r\nL 2766 2266 \r\nQ 2766 2663 2505 2880 \r\nQ 2244 3097 1772 3097 \r\nQ 1472 3097 1187 3025 \r\nQ 903 2953 641 2809 \r\nL 641 3341 \r\nQ 956 3463 1253 3523 \r\nQ 1550 3584 1831 3584 \r\nQ 2591 3584 2966 3190 \r\nQ 3341 2797 3341 1997 \r\nz\r\n\" id=\"DejaVuSans-61\" transform=\"scale(0.015625)\"/>\r\n       <path d=\"M 1172 4494 \r\nL 1172 3500 \r\nL 2356 3500 \r\nL 2356 3053 \r\nL 1172 3053 \r\nL 1172 1153 \r\nQ 1172 725 1289 603 \r\nQ 1406 481 1766 481 \r\nL 2356 481 \r\nL 2356 0 \r\nL 1766 0 \r\nQ 1100 0 847 248 \r\nQ 594 497 594 1153 \r\nL 594 3053 \r\nL 172 3053 \r\nL 172 3500 \r\nL 594 3500 \r\nL 594 4494 \r\nL 1172 4494 \r\nz\r\n\" id=\"DejaVuSans-74\" transform=\"scale(0.015625)\"/>\r\n       <path d=\"M 603 3500 \r\nL 1178 3500 \r\nL 1178 0 \r\nL 603 0 \r\nL 603 3500 \r\nz\r\nM 603 4863 \r\nL 1178 4863 \r\nL 1178 4134 \r\nL 603 4134 \r\nL 603 4863 \r\nz\r\n\" id=\"DejaVuSans-69\" transform=\"scale(0.015625)\"/>\r\n       <path d=\"M 1959 3097 \r\nQ 1497 3097 1228 2736 \r\nQ 959 2375 959 1747 \r\nQ 959 1119 1226 758 \r\nQ 1494 397 1959 397 \r\nQ 2419 397 2687 759 \r\nQ 2956 1122 2956 1747 \r\nQ 2956 2369 2687 2733 \r\nQ 2419 3097 1959 3097 \r\nz\r\nM 1959 3584 \r\nQ 2709 3584 3137 3096 \r\nQ 3566 2609 3566 1747 \r\nQ 3566 888 3137 398 \r\nQ 2709 -91 1959 -91 \r\nQ 1206 -91 779 398 \r\nQ 353 888 353 1747 \r\nQ 353 2609 779 3096 \r\nQ 1206 3584 1959 3584 \r\nz\r\n\" id=\"DejaVuSans-6f\" transform=\"scale(0.015625)\"/>\r\n      </defs>\r\n      <use xlink:href=\"#DejaVuSans-47\"/>\r\n      <use x=\"77.490234\" xlink:href=\"#DejaVuSans-65\"/>\r\n      <use x=\"139.013672\" xlink:href=\"#DejaVuSans-6e\"/>\r\n      <use x=\"202.392578\" xlink:href=\"#DejaVuSans-65\"/>\r\n      <use x=\"263.916016\" xlink:href=\"#DejaVuSans-72\"/>\r\n      <use x=\"305.029297\" xlink:href=\"#DejaVuSans-61\"/>\r\n      <use x=\"366.308594\" xlink:href=\"#DejaVuSans-74\"/>\r\n      <use x=\"405.517578\" xlink:href=\"#DejaVuSans-69\"/>\r\n      <use x=\"433.300781\" xlink:href=\"#DejaVuSans-6f\"/>\r\n      <use x=\"494.482422\" xlink:href=\"#DejaVuSans-6e\"/>\r\n     </g>\r\n    </g>\r\n   </g>\r\n   <g id=\"matplotlib.axis_2\">\r\n    <g id=\"ytick_1\">\r\n     <g id=\"line2d_7\">\r\n      <defs>\r\n       <path d=\"M 0 0 \r\nL -3.5 0 \r\n\" id=\"mc743843154\" style=\"stroke:#000000;stroke-width:0.8;\"/>\r\n      </defs>\r\n      <g>\r\n       <use style=\"stroke:#000000;stroke-width:0.8;\" x=\"53.328125\" xlink:href=\"#mc743843154\" y=\"201.842793\"/>\r\n      </g>\r\n     </g>\r\n     <g id=\"text_8\">\r\n      <!-- 400 -->\r\n      <g transform=\"translate(27.240625 205.642012)scale(0.1 -0.1)\">\r\n       <use xlink:href=\"#DejaVuSans-34\"/>\r\n       <use x=\"63.623047\" xlink:href=\"#DejaVuSans-30\"/>\r\n       <use x=\"127.246094\" xlink:href=\"#DejaVuSans-30\"/>\r\n      </g>\r\n     </g>\r\n    </g>\r\n    <g id=\"ytick_2\">\r\n     <g id=\"line2d_8\">\r\n      <g>\r\n       <use style=\"stroke:#000000;stroke-width:0.8;\" x=\"53.328125\" xlink:href=\"#mc743843154\" y=\"172.455853\"/>\r\n      </g>\r\n     </g>\r\n     <g id=\"text_9\">\r\n      <!-- 600 -->\r\n      <g transform=\"translate(27.240625 176.255072)scale(0.1 -0.1)\">\r\n       <defs>\r\n        <path d=\"M 2113 2584 \r\nQ 1688 2584 1439 2293 \r\nQ 1191 2003 1191 1497 \r\nQ 1191 994 1439 701 \r\nQ 1688 409 2113 409 \r\nQ 2538 409 2786 701 \r\nQ 3034 994 3034 1497 \r\nQ 3034 2003 2786 2293 \r\nQ 2538 2584 2113 2584 \r\nz\r\nM 3366 4563 \r\nL 3366 3988 \r\nQ 3128 4100 2886 4159 \r\nQ 2644 4219 2406 4219 \r\nQ 1781 4219 1451 3797 \r\nQ 1122 3375 1075 2522 \r\nQ 1259 2794 1537 2939 \r\nQ 1816 3084 2150 3084 \r\nQ 2853 3084 3261 2657 \r\nQ 3669 2231 3669 1497 \r\nQ 3669 778 3244 343 \r\nQ 2819 -91 2113 -91 \r\nQ 1303 -91 875 529 \r\nQ 447 1150 447 2328 \r\nQ 447 3434 972 4092 \r\nQ 1497 4750 2381 4750 \r\nQ 2619 4750 2861 4703 \r\nQ 3103 4656 3366 4563 \r\nz\r\n\" id=\"DejaVuSans-36\" transform=\"scale(0.015625)\"/>\r\n       </defs>\r\n       <use xlink:href=\"#DejaVuSans-36\"/>\r\n       <use x=\"63.623047\" xlink:href=\"#DejaVuSans-30\"/>\r\n       <use x=\"127.246094\" xlink:href=\"#DejaVuSans-30\"/>\r\n      </g>\r\n     </g>\r\n    </g>\r\n    <g id=\"ytick_3\">\r\n     <g id=\"line2d_9\">\r\n      <g>\r\n       <use style=\"stroke:#000000;stroke-width:0.8;\" x=\"53.328125\" xlink:href=\"#mc743843154\" y=\"143.068913\"/>\r\n      </g>\r\n     </g>\r\n     <g id=\"text_10\">\r\n      <!-- 800 -->\r\n      <g transform=\"translate(27.240625 146.868131)scale(0.1 -0.1)\">\r\n       <defs>\r\n        <path d=\"M 2034 2216 \r\nQ 1584 2216 1326 1975 \r\nQ 1069 1734 1069 1313 \r\nQ 1069 891 1326 650 \r\nQ 1584 409 2034 409 \r\nQ 2484 409 2743 651 \r\nQ 3003 894 3003 1313 \r\nQ 3003 1734 2745 1975 \r\nQ 2488 2216 2034 2216 \r\nz\r\nM 1403 2484 \r\nQ 997 2584 770 2862 \r\nQ 544 3141 544 3541 \r\nQ 544 4100 942 4425 \r\nQ 1341 4750 2034 4750 \r\nQ 2731 4750 3128 4425 \r\nQ 3525 4100 3525 3541 \r\nQ 3525 3141 3298 2862 \r\nQ 3072 2584 2669 2484 \r\nQ 3125 2378 3379 2068 \r\nQ 3634 1759 3634 1313 \r\nQ 3634 634 3220 271 \r\nQ 2806 -91 2034 -91 \r\nQ 1263 -91 848 271 \r\nQ 434 634 434 1313 \r\nQ 434 1759 690 2068 \r\nQ 947 2378 1403 2484 \r\nz\r\nM 1172 3481 \r\nQ 1172 3119 1398 2916 \r\nQ 1625 2713 2034 2713 \r\nQ 2441 2713 2670 2916 \r\nQ 2900 3119 2900 3481 \r\nQ 2900 3844 2670 4047 \r\nQ 2441 4250 2034 4250 \r\nQ 1625 4250 1398 4047 \r\nQ 1172 3844 1172 3481 \r\nz\r\n\" id=\"DejaVuSans-38\" transform=\"scale(0.015625)\"/>\r\n       </defs>\r\n       <use xlink:href=\"#DejaVuSans-38\"/>\r\n       <use x=\"63.623047\" xlink:href=\"#DejaVuSans-30\"/>\r\n       <use x=\"127.246094\" xlink:href=\"#DejaVuSans-30\"/>\r\n      </g>\r\n     </g>\r\n    </g>\r\n    <g id=\"ytick_4\">\r\n     <g id=\"line2d_10\">\r\n      <g>\r\n       <use style=\"stroke:#000000;stroke-width:0.8;\" x=\"53.328125\" xlink:href=\"#mc743843154\" y=\"113.681973\"/>\r\n      </g>\r\n     </g>\r\n     <g id=\"text_11\">\r\n      <!-- 1000 -->\r\n      <g transform=\"translate(20.878125 117.481191)scale(0.1 -0.1)\">\r\n       <use xlink:href=\"#DejaVuSans-31\"/>\r\n       <use x=\"63.623047\" xlink:href=\"#DejaVuSans-30\"/>\r\n       <use x=\"127.246094\" xlink:href=\"#DejaVuSans-30\"/>\r\n       <use x=\"190.869141\" xlink:href=\"#DejaVuSans-30\"/>\r\n      </g>\r\n     </g>\r\n    </g>\r\n    <g id=\"ytick_5\">\r\n     <g id=\"line2d_11\">\r\n      <g>\r\n       <use style=\"stroke:#000000;stroke-width:0.8;\" x=\"53.328125\" xlink:href=\"#mc743843154\" y=\"84.295033\"/>\r\n      </g>\r\n     </g>\r\n     <g id=\"text_12\">\r\n      <!-- 1200 -->\r\n      <g transform=\"translate(20.878125 88.094251)scale(0.1 -0.1)\">\r\n       <use xlink:href=\"#DejaVuSans-31\"/>\r\n       <use x=\"63.623047\" xlink:href=\"#DejaVuSans-32\"/>\r\n       <use x=\"127.246094\" xlink:href=\"#DejaVuSans-30\"/>\r\n       <use x=\"190.869141\" xlink:href=\"#DejaVuSans-30\"/>\r\n      </g>\r\n     </g>\r\n    </g>\r\n    <g id=\"ytick_6\">\r\n     <g id=\"line2d_12\">\r\n      <g>\r\n       <use style=\"stroke:#000000;stroke-width:0.8;\" x=\"53.328125\" xlink:href=\"#mc743843154\" y=\"54.908092\"/>\r\n      </g>\r\n     </g>\r\n     <g id=\"text_13\">\r\n      <!-- 1400 -->\r\n      <g transform=\"translate(20.878125 58.707311)scale(0.1 -0.1)\">\r\n       <use xlink:href=\"#DejaVuSans-31\"/>\r\n       <use x=\"63.623047\" xlink:href=\"#DejaVuSans-34\"/>\r\n       <use x=\"127.246094\" xlink:href=\"#DejaVuSans-30\"/>\r\n       <use x=\"190.869141\" xlink:href=\"#DejaVuSans-30\"/>\r\n      </g>\r\n     </g>\r\n    </g>\r\n    <g id=\"ytick_7\">\r\n     <g id=\"line2d_13\">\r\n      <g>\r\n       <use style=\"stroke:#000000;stroke-width:0.8;\" x=\"53.328125\" xlink:href=\"#mc743843154\" y=\"25.521152\"/>\r\n      </g>\r\n     </g>\r\n     <g id=\"text_14\">\r\n      <!-- 1600 -->\r\n      <g transform=\"translate(20.878125 29.320371)scale(0.1 -0.1)\">\r\n       <use xlink:href=\"#DejaVuSans-31\"/>\r\n       <use x=\"63.623047\" xlink:href=\"#DejaVuSans-36\"/>\r\n       <use x=\"127.246094\" xlink:href=\"#DejaVuSans-30\"/>\r\n       <use x=\"190.869141\" xlink:href=\"#DejaVuSans-30\"/>\r\n      </g>\r\n     </g>\r\n    </g>\r\n    <g id=\"text_15\">\r\n     <!-- Fitness -->\r\n     <g transform=\"translate(14.798438 133.237187)rotate(-90)scale(0.1 -0.1)\">\r\n      <defs>\r\n       <path d=\"M 628 4666 \r\nL 3309 4666 \r\nL 3309 4134 \r\nL 1259 4134 \r\nL 1259 2759 \r\nL 3109 2759 \r\nL 3109 2228 \r\nL 1259 2228 \r\nL 1259 0 \r\nL 628 0 \r\nL 628 4666 \r\nz\r\n\" id=\"DejaVuSans-46\" transform=\"scale(0.015625)\"/>\r\n       <path d=\"M 2834 3397 \r\nL 2834 2853 \r\nQ 2591 2978 2328 3040 \r\nQ 2066 3103 1784 3103 \r\nQ 1356 3103 1142 2972 \r\nQ 928 2841 928 2578 \r\nQ 928 2378 1081 2264 \r\nQ 1234 2150 1697 2047 \r\nL 1894 2003 \r\nQ 2506 1872 2764 1633 \r\nQ 3022 1394 3022 966 \r\nQ 3022 478 2636 193 \r\nQ 2250 -91 1575 -91 \r\nQ 1294 -91 989 -36 \r\nQ 684 19 347 128 \r\nL 347 722 \r\nQ 666 556 975 473 \r\nQ 1284 391 1588 391 \r\nQ 1994 391 2212 530 \r\nQ 2431 669 2431 922 \r\nQ 2431 1156 2273 1281 \r\nQ 2116 1406 1581 1522 \r\nL 1381 1569 \r\nQ 847 1681 609 1914 \r\nQ 372 2147 372 2553 \r\nQ 372 3047 722 3315 \r\nQ 1072 3584 1716 3584 \r\nQ 2034 3584 2315 3537 \r\nQ 2597 3491 2834 3397 \r\nz\r\n\" id=\"DejaVuSans-73\" transform=\"scale(0.015625)\"/>\r\n      </defs>\r\n      <use xlink:href=\"#DejaVuSans-46\"/>\r\n      <use x=\"50.269531\" xlink:href=\"#DejaVuSans-69\"/>\r\n      <use x=\"78.052734\" xlink:href=\"#DejaVuSans-74\"/>\r\n      <use x=\"117.261719\" xlink:href=\"#DejaVuSans-6e\"/>\r\n      <use x=\"180.640625\" xlink:href=\"#DejaVuSans-65\"/>\r\n      <use x=\"242.164062\" xlink:href=\"#DejaVuSans-73\"/>\r\n      <use x=\"294.263672\" xlink:href=\"#DejaVuSans-73\"/>\r\n     </g>\r\n    </g>\r\n   </g>\r\n   <g id=\"line2d_14\">\r\n    <path clip-path=\"url(#p3f81ccd2db)\" d=\"M 68.546307 51.847461 \r\nL 74.63358 17.083707 \r\nL 80.720852 17.083707 \r\nL 86.808125 17.083707 \r\nL 92.895398 17.083707 \r\nL 98.98267 17.083707 \r\nL 105.069943 17.083707 \r\nL 111.157216 17.083707 \r\nL 117.244489 17.083707 \r\nL 123.331761 17.083707 \r\nL 129.419034 17.083707 \r\nL 135.506307 17.083707 \r\nL 141.59358 17.083707 \r\nL 147.680852 17.083707 \r\nL 153.768125 17.083707 \r\nL 159.855398 17.083707 \r\nL 165.94267 17.083707 \r\nL 172.029943 17.083707 \r\nL 178.117216 17.083779 \r\nL 184.204489 17.083779 \r\nL 190.291761 17.083766 \r\nL 196.379034 17.083761 \r\nL 202.466307 17.083674 \r\nL 208.55358 17.083674 \r\nL 214.640852 17.083674 \r\nL 220.728125 17.083674 \r\nL 226.815398 17.083648 \r\nL 232.90267 17.083637 \r\nL 238.989943 17.083636 \r\nL 245.077216 17.083636 \r\nL 251.164489 17.083643 \r\nL 257.251761 17.083643 \r\nL 263.339034 17.083643 \r\nL 269.426307 17.083643 \r\nL 275.51358 17.083643 \r\nL 281.600852 17.083643 \r\nL 287.688125 17.083643 \r\nL 293.775398 17.083643 \r\nL 299.86267 17.083643 \r\nL 305.949943 17.083643 \r\nL 312.037216 17.083643 \r\nL 318.124489 17.083643 \r\nL 324.211761 17.083643 \r\nL 330.299034 17.083643 \r\nL 336.386307 17.083643 \r\nL 342.47358 17.083643 \r\nL 348.560852 17.083643 \r\nL 354.648125 17.083643 \r\nL 360.735398 17.083643 \r\nL 366.82267 17.083643 \r\nL 372.909943 17.083643 \r\n\" style=\"fill:none;stroke:#0000ff;stroke-linecap:square;stroke-width:2;\"/>\r\n   </g>\r\n   <g id=\"line2d_15\">\r\n    <path clip-path=\"url(#p3f81ccd2db)\" d=\"M 68.546307 214.756364 \r\nL 74.63358 191.806923 \r\nL 80.720852 177.381597 \r\nL 86.808125 169.635243 \r\nL 92.895398 172.198022 \r\nL 98.98267 179.188383 \r\nL 105.069943 169.935923 \r\nL 111.157216 172.428904 \r\nL 117.244489 177.029442 \r\nL 123.331761 174.916385 \r\nL 129.419034 169.766262 \r\nL 135.506307 153.760131 \r\nL 141.59358 142.980715 \r\nL 147.680852 132.270779 \r\nL 153.768125 132.128453 \r\nL 159.855398 121.691605 \r\nL 165.94267 114.182626 \r\nL 172.029943 94.203812 \r\nL 178.117216 79.972481 \r\nL 184.204489 79.57533 \r\nL 190.291761 89.382916 \r\nL 196.379034 109.39698 \r\nL 202.466307 104.628455 \r\nL 208.55358 82.905536 \r\nL 214.640852 84.562641 \r\nL 220.728125 82.820473 \r\nL 226.815398 57.127594 \r\nL 232.90267 89.978829 \r\nL 238.989943 75.683465 \r\nL 245.077216 67.782225 \r\nL 251.164489 76.739055 \r\nL 257.251761 84.273385 \r\nL 263.339034 84.584392 \r\nL 269.426307 84.749143 \r\nL 275.51358 78.932085 \r\nL 281.600852 65.492792 \r\nL 287.688125 61.191297 \r\nL 293.775398 69.635896 \r\nL 299.86267 66.001598 \r\nL 305.949943 66.260406 \r\nL 312.037216 72.180468 \r\nL 318.124489 64.399195 \r\nL 324.211761 65.104682 \r\nL 330.299034 64.855482 \r\nL 336.386307 78.607179 \r\nL 342.47358 71.369209 \r\nL 348.560852 55.291848 \r\nL 354.648125 67.831231 \r\nL 360.735398 89.792408 \r\nL 366.82267 72.958334 \r\nL 372.909943 71.165518 \r\n\" style=\"fill:none;stroke:#ff0000;stroke-linecap:square;stroke-width:2;\"/>\r\n   </g>\r\n   <g id=\"patch_3\">\r\n    <path d=\"M 53.328125 224.64 \r\nL 53.328125 7.2 \r\n\" style=\"fill:none;stroke:#000000;stroke-linecap:square;stroke-linejoin:miter;stroke-width:0.8;\"/>\r\n   </g>\r\n   <g id=\"patch_4\">\r\n    <path d=\"M 388.128125 224.64 \r\nL 388.128125 7.2 \r\n\" style=\"fill:none;stroke:#000000;stroke-linecap:square;stroke-linejoin:miter;stroke-width:0.8;\"/>\r\n   </g>\r\n   <g id=\"patch_5\">\r\n    <path d=\"M 53.328125 224.64 \r\nL 388.128125 224.64 \r\n\" style=\"fill:none;stroke:#000000;stroke-linecap:square;stroke-linejoin:miter;stroke-width:0.8;\"/>\r\n   </g>\r\n   <g id=\"patch_6\">\r\n    <path d=\"M 53.328125 7.2 \r\nL 388.128125 7.2 \r\n\" style=\"fill:none;stroke:#000000;stroke-linecap:square;stroke-linejoin:miter;stroke-width:0.8;\"/>\r\n   </g>\r\n   <g id=\"legend_1\">\r\n    <g id=\"patch_7\">\r\n     <path d=\"M 270.25 219.64 \r\nL 381.128125 219.64 \r\nQ 383.128125 219.64 383.128125 217.64 \r\nL 383.128125 189.28375 \r\nQ 383.128125 187.28375 381.128125 187.28375 \r\nL 270.25 187.28375 \r\nQ 268.25 187.28375 268.25 189.28375 \r\nL 268.25 217.64 \r\nQ 268.25 219.64 270.25 219.64 \r\nz\r\n\" style=\"fill:#ffffff;opacity:0.8;stroke:#cccccc;stroke-linejoin:miter;\"/>\r\n    </g>\r\n    <g id=\"line2d_16\">\r\n     <path d=\"M 272.25 195.382187 \r\nL 292.25 195.382187 \r\n\" style=\"fill:none;stroke:#0000ff;stroke-linecap:square;stroke-width:2;\"/>\r\n    </g>\r\n    <g id=\"line2d_17\"/>\r\n    <g id=\"text_16\">\r\n     <!-- Max Fitness -->\r\n     <g transform=\"translate(300.25 198.882187)scale(0.1 -0.1)\">\r\n      <defs>\r\n       <path d=\"M 628 4666 \r\nL 1569 4666 \r\nL 2759 1491 \r\nL 3956 4666 \r\nL 4897 4666 \r\nL 4897 0 \r\nL 4281 0 \r\nL 4281 4097 \r\nL 3078 897 \r\nL 2444 897 \r\nL 1241 4097 \r\nL 1241 0 \r\nL 628 0 \r\nL 628 4666 \r\nz\r\n\" id=\"DejaVuSans-4d\" transform=\"scale(0.015625)\"/>\r\n       <path d=\"M 3513 3500 \r\nL 2247 1797 \r\nL 3578 0 \r\nL 2900 0 \r\nL 1881 1375 \r\nL 863 0 \r\nL 184 0 \r\nL 1544 1831 \r\nL 300 3500 \r\nL 978 3500 \r\nL 1906 2253 \r\nL 2834 3500 \r\nL 3513 3500 \r\nz\r\n\" id=\"DejaVuSans-78\" transform=\"scale(0.015625)\"/>\r\n       <path id=\"DejaVuSans-20\" transform=\"scale(0.015625)\"/>\r\n      </defs>\r\n      <use xlink:href=\"#DejaVuSans-4d\"/>\r\n      <use x=\"86.279297\" xlink:href=\"#DejaVuSans-61\"/>\r\n      <use x=\"147.558594\" xlink:href=\"#DejaVuSans-78\"/>\r\n      <use x=\"206.738281\" xlink:href=\"#DejaVuSans-20\"/>\r\n      <use x=\"238.525391\" xlink:href=\"#DejaVuSans-46\"/>\r\n      <use x=\"288.794922\" xlink:href=\"#DejaVuSans-69\"/>\r\n      <use x=\"316.578125\" xlink:href=\"#DejaVuSans-74\"/>\r\n      <use x=\"355.787109\" xlink:href=\"#DejaVuSans-6e\"/>\r\n      <use x=\"419.166016\" xlink:href=\"#DejaVuSans-65\"/>\r\n      <use x=\"480.689453\" xlink:href=\"#DejaVuSans-73\"/>\r\n      <use x=\"532.789062\" xlink:href=\"#DejaVuSans-73\"/>\r\n     </g>\r\n    </g>\r\n    <g id=\"line2d_18\">\r\n     <path d=\"M 272.25 210.060312 \r\nL 292.25 210.060312 \r\n\" style=\"fill:none;stroke:#ff0000;stroke-linecap:square;stroke-width:2;\"/>\r\n    </g>\r\n    <g id=\"line2d_19\"/>\r\n    <g id=\"text_17\">\r\n     <!-- Average Fitness -->\r\n     <g transform=\"translate(300.25 213.560312)scale(0.1 -0.1)\">\r\n      <defs>\r\n       <path d=\"M 2188 4044 \r\nL 1331 1722 \r\nL 3047 1722 \r\nL 2188 4044 \r\nz\r\nM 1831 4666 \r\nL 2547 4666 \r\nL 4325 0 \r\nL 3669 0 \r\nL 3244 1197 \r\nL 1141 1197 \r\nL 716 0 \r\nL 50 0 \r\nL 1831 4666 \r\nz\r\n\" id=\"DejaVuSans-41\" transform=\"scale(0.015625)\"/>\r\n       <path d=\"M 191 3500 \r\nL 800 3500 \r\nL 1894 563 \r\nL 2988 3500 \r\nL 3597 3500 \r\nL 2284 0 \r\nL 1503 0 \r\nL 191 3500 \r\nz\r\n\" id=\"DejaVuSans-76\" transform=\"scale(0.015625)\"/>\r\n       <path d=\"M 2906 1791 \r\nQ 2906 2416 2648 2759 \r\nQ 2391 3103 1925 3103 \r\nQ 1463 3103 1205 2759 \r\nQ 947 2416 947 1791 \r\nQ 947 1169 1205 825 \r\nQ 1463 481 1925 481 \r\nQ 2391 481 2648 825 \r\nQ 2906 1169 2906 1791 \r\nz\r\nM 3481 434 \r\nQ 3481 -459 3084 -895 \r\nQ 2688 -1331 1869 -1331 \r\nQ 1566 -1331 1297 -1286 \r\nQ 1028 -1241 775 -1147 \r\nL 775 -588 \r\nQ 1028 -725 1275 -790 \r\nQ 1522 -856 1778 -856 \r\nQ 2344 -856 2625 -561 \r\nQ 2906 -266 2906 331 \r\nL 2906 616 \r\nQ 2728 306 2450 153 \r\nQ 2172 0 1784 0 \r\nQ 1141 0 747 490 \r\nQ 353 981 353 1791 \r\nQ 353 2603 747 3093 \r\nQ 1141 3584 1784 3584 \r\nQ 2172 3584 2450 3431 \r\nQ 2728 3278 2906 2969 \r\nL 2906 3500 \r\nL 3481 3500 \r\nL 3481 434 \r\nz\r\n\" id=\"DejaVuSans-67\" transform=\"scale(0.015625)\"/>\r\n      </defs>\r\n      <use xlink:href=\"#DejaVuSans-41\"/>\r\n      <use x=\"62.533203\" xlink:href=\"#DejaVuSans-76\"/>\r\n      <use x=\"121.712891\" xlink:href=\"#DejaVuSans-65\"/>\r\n      <use x=\"183.236328\" xlink:href=\"#DejaVuSans-72\"/>\r\n      <use x=\"224.349609\" xlink:href=\"#DejaVuSans-61\"/>\r\n      <use x=\"285.628906\" xlink:href=\"#DejaVuSans-67\"/>\r\n      <use x=\"349.105469\" xlink:href=\"#DejaVuSans-65\"/>\r\n      <use x=\"410.628906\" xlink:href=\"#DejaVuSans-20\"/>\r\n      <use x=\"442.416016\" xlink:href=\"#DejaVuSans-46\"/>\r\n      <use x=\"492.685547\" xlink:href=\"#DejaVuSans-69\"/>\r\n      <use x=\"520.46875\" xlink:href=\"#DejaVuSans-74\"/>\r\n      <use x=\"559.677734\" xlink:href=\"#DejaVuSans-6e\"/>\r\n      <use x=\"623.056641\" xlink:href=\"#DejaVuSans-65\"/>\r\n      <use x=\"684.580078\" xlink:href=\"#DejaVuSans-73\"/>\r\n      <use x=\"736.679688\" xlink:href=\"#DejaVuSans-73\"/>\r\n     </g>\r\n    </g>\r\n   </g>\r\n  </g>\r\n </g>\r\n <defs>\r\n  <clipPath id=\"p3f81ccd2db\">\r\n   <rect height=\"217.44\" width=\"334.8\" x=\"53.328125\" y=\"7.2\"/>\r\n  </clipPath>\r\n </defs>\r\n</svg>\r\n",
      "image/png": "[encoded data removed]"
     },
     "metadata": {
      "needs_background": "light"
     }
    }
   ],
   "metadata": {}
  }
 ],
 "metadata": {
  "orig_nbformat": 4,
  "language_info": {
   "name": "python",
   "version": "3.9.6"
  },
  "kernelspec": {
   "name": "python3",
   "display_name": "Python 3.9.5 64-bit (windows store)"
  },
  "interpreter": {
   "hash": "89856f9aa093690532bf75408194c81f9edf18faa58be389e84d1341b68f4600"
  }
 },
 "nbformat": 4,
 "nbformat_minor": 2
}